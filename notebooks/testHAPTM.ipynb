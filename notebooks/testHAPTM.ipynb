{
 "cells": [
  {
   "cell_type": "code",
   "execution_count": 7,
   "metadata": {
    "collapsed": false
   },
   "outputs": [
    {
     "data": {
      "text/plain": [
       "<module 'hAPTM' from 'hAPTM.pyc'>"
      ]
     },
     "execution_count": 7,
     "metadata": {},
     "output_type": "execute_result"
    }
   ],
   "source": [
    "import numpy as np\n",
    "import hAPTM\n",
    "reload(hAPTM)"
   ]
  },
  {
   "cell_type": "code",
   "execution_count": 11,
   "metadata": {
    "collapsed": true
   },
   "outputs": [],
   "source": [
    "from matplotlib import pyplot as plt\n",
    "%matplotlib inline"
   ]
  },
  {
   "cell_type": "code",
   "execution_count": 8,
   "metadata": {
    "collapsed": false
   },
   "outputs": [],
   "source": [
    "H = hAPTM.hAPTM()\n",
    "#direc = \"/media/nadia/TOSHIBA EXT/PTM/data/\"\n",
    "direc = \"D:/PTM/data/school_collection/\"\n",
    "H.parseFromTxt(direc+\"school_ndw.txt\")\n",
    "H.parseDictionaryFromTxt(direc+\"school_dict.txt\", True)"
   ]
  },
  {
   "cell_type": "code",
   "execution_count": 9,
   "metadata": {
    "collapsed": false
   },
   "outputs": [],
   "source": [
    "H.reset([1, 30])"
   ]
  },
  {
   "cell_type": "code",
   "execution_count": 10,
   "metadata": {
    "collapsed": false
   },
   "outputs": [
    {
     "name": "stdout",
     "output_type": "stream",
     "text": [
      "Wall time: 17min 7s\n"
     ]
    }
   ],
   "source": [
    "%time LL = H.construct(30)"
   ]
  },
  {
   "cell_type": "code",
   "execution_count": 15,
   "metadata": {
    "collapsed": false
   },
   "outputs": [
    {
     "name": "stdout",
     "output_type": "stream",
     "text": [
      "{'phi_sparsity': 0.98818083826242109, 'psi_sparsity': 1.0, 'theta_sparsity': 0.99720460418134838, 'purity': 0.55855988531477696}\n",
      "{'phi_sparsity': 0.87675012690009979, 'psi_sparsity': 1.0, 'theta_sparsity': 0.99720460418134838, 'purity': 0.6597547634151939}\n",
      "{'phi_sparsity': 0.51262552460915356, 'psi_sparsity': 1.0, 'theta_sparsity': 0.99720460418134838, 'purity': 0.72912197693370517}\n",
      "{'phi_sparsity': 0.2650975622165454, 'psi_sparsity': 1.0, 'theta_sparsity': 0.99720460418134838, 'purity': 0.78447180884967815}\n",
      "{'phi_sparsity': 0.1648529911152182, 'psi_sparsity': 1.0, 'theta_sparsity': 0.99720460418134838, 'purity': 0.82670418316685124}\n"
     ]
    }
   ],
   "source": [
    "LL = []\n",
    "for i in range(5):\n",
    "    LL += H.construct(1)\n",
    "    scores = H.regularize(2, None, None, True)\n",
    "    print scores"
   ]
  },
  {
   "cell_type": "code",
   "execution_count": 16,
   "metadata": {
    "collapsed": false
   },
   "outputs": [
    {
     "data": {
      "text/plain": [
       "[<matplotlib.lines.Line2D at 0xe6962e8>]"
      ]
     },
     "execution_count": 16,
     "metadata": {},
     "output_type": "execute_result"
    },
    {
     "data": {
      "image/png": "[encoded data removed]",
      "text/plain": [
       "<matplotlib.figure.Figure at 0xe4ac4a8>"
      ]
     },
     "metadata": {},
     "output_type": "display_data"
    }
   ],
   "source": [
    "plt.plot(LL)"
   ]
  },
  {
   "cell_type": "code",
   "execution_count": 28,
   "metadata": {
    "collapsed": false
   },
   "outputs": [],
   "source": [
    "H.graph.build(10)"
   ]
  },
  {
   "cell_type": "code",
   "execution_count": 12,
   "metadata": {
    "collapsed": false
   },
   "outputs": [
    {
     "data": {
      "text/plain": [
       "array([[  7.37979488e-02,   1.92264893e-05,   5.49658268e-07, ...,\n",
       "          2.23376658e-04,   1.11510482e-05,   1.54279594e-06],\n",
       "       [  6.54094916e-01,   2.23691070e-05,   3.96941419e-05, ...,\n",
       "          6.29009107e-05,   1.38609064e-04,   1.30474662e-04],\n",
       "       [  2.37843511e-03,   3.70396649e-02,   7.89113368e-01, ...,\n",
       "          2.23539730e-04,   3.59168563e-03,   1.22216898e-05],\n",
       "       ..., \n",
       "       [  1.55274244e-01,   1.90131787e-04,   5.42546908e-01, ...,\n",
       "          9.88999250e-05,   9.78893673e-02,   9.57739011e-04],\n",
       "       [  5.04719859e-04,   1.06848124e-01,   1.23673555e-03, ...,\n",
       "          1.04286074e-03,   1.43736051e-03,   2.19568436e-02],\n",
       "       [  9.89590914e-05,   1.58348269e-03,   8.64146967e-04, ...,\n",
       "          3.35096039e-02,   3.49720491e-04,   1.57857595e-04]])"
      ]
     },
     "execution_count": 12,
     "metadata": {},
     "output_type": "execute_result"
    }
   ],
   "source": [
    "H.graph.theta.T"
   ]
  },
  {
   "cell_type": "code",
   "execution_count": 13,
   "metadata": {
    "collapsed": false
   },
   "outputs": [
    {
     "data": {
      "text/plain": [
       "array([[ 0.00436018,  0.99563982],\n",
       "       [ 0.03009665,  0.96990335],\n",
       "       [ 0.00127528,  0.99872472],\n",
       "       ..., \n",
       "       [ 0.32407117,  0.67592883],\n",
       "       [ 0.02865951,  0.97134049],\n",
       "       [ 0.05994803,  0.94005197]])"
      ]
     },
     "execution_count": 13,
     "metadata": {},
     "output_type": "execute_result"
    }
   ],
   "source": [
    "H.graph.eta.T"
   ]
  },
  {
   "cell_type": "code",
   "execution_count": 51,
   "metadata": {
    "collapsed": false
   },
   "outputs": [],
   "source": [
    "phi1 = H.graph.phis[1] + H.graph.phis[2].dot(H.graph.psis[1].T)"
   ]
  },
  {
   "cell_type": "code",
   "execution_count": 17,
   "metadata": {
    "collapsed": false
   },
   "outputs": [
    {
     "name": "stdout",
     "output_type": "stream",
     "text": [
      "Top phi:\n",
      "Topic 0 государство, страна, политический, система, мировой, советский, ссср, сша, правительство, развитие, становиться, класс, рабочий, новый, результат, второй, значительно, режим, хозяйство, международный, промышленный, х, рост, большевик, кризис, структура, способствовать, приводить, экономический\n",
      "Topic 1 слово, предложение, например, вопрос, простой, глагол, я, или, часть, форма, сложный, связь, пример, кто, выражать, действие, член, имя, нет, оно, существительное, текст, указывать, обозначать, относиться, союз, отвечать, стоять, признак\n",
      "Topic 2 земля, природа, наш, наука, явление, географический, планета, человечество, название, открывать, первый, знание, изучать, животное, цивилизация, изучение, ученый, карта, открытие, география, атмосфера, живой, исследование, научный, атмосферный, современный, объект, впервые, называть\n",
      "Topic 3 быть, год, период, власть, после, первый, начинать, становиться, государственный, россия, политика, империя, однако, российский, крестьянин, начало, представитель, император, смочь, александр, реформа, начинаться, создавать, внешний, внутренний, народ, правление, против, активно\n",
      "Topic 4 большой, океан, африка, достигать, земной, течение, стиль, море, глубина, берег, тихий, метр, средний, африканский, атлантический, спорт, раса, индийский, изображение, характеристика, суша, всего, км, кора, молодежь, научный, характерный, д, помимо\n",
      "Topic 5 вода, же, мы, давление, поверхность, воздух, газ, луч, жидкость, если, плотность, температура, вещество, трение, молекула, мало, из, количество, чем, опыт, объем, линза, поэтому, лежать, а, сила, теплота, свет, шар\n",
      "Topic 6 производство, экономический, уровень, работа, экономика, труд, состояние, образование, сфера, предприятие, развитие, способность, рынок, торговля, обеспечивать, средство, счет, деятельность, китай, переходить, заниматься, сохранять, товар, теория, налог, продукт, собственность, материальный, производить\n",
      "Topic 7 быть, время, история, маленький, удаваться, становиться, бог, дом, отец, известный, сделать, сын, узнавать, приходить, играть, жена, брат, известно, ничто, дочь, самый, считаться, средневековый, поздно, хороший, отправляться, заканчиваться, строить, среди\n",
      "Topic 8 река, девушка, дорога, она, девочка, цвет, совсем, хорошо, озеро, очень, однажды, правда, привыкать, длинный, дневник, вещь, происхождение, белый, быстро, байкал, юноша, рано, принц, рядом, мужской, внешность, мальчик, обломов, злой\n",
      "Topic 9 предмет, ребенок, сторона, родитель, воспитание, реакция, огромный, выделяться, афины, название, фигура, требоваться, l, см, раб, специальный, ядерный, дума, трудовой, необходимо, ab, треугольник, управлять, двигатель, параллельный, изотоп, уран, немой, вырастать\n",
      "Topic 10 культура, эпоха, путь, наш, идея, поэзия, творчество, церковь, давать, сам, печорин, своеобразный, искусство, время, бунин, глава, судьба, творческий, герой, романтический, прошлое, становиться, день, философский, полностью, перед, ранний, переживать, окружать\n",
      "Topic 11 мы, тело, при, движение, скорость, масса, случай, величина, если, равный, время, можно, двигаться, физика, или, этот, расстояние, знать, формула, когда, вот, данный, где, единица, воздействие, всегда, например, действовать, же\n",
      "Topic 12 быть, ток, при, энергия, поле, магнитный, колебание, электрический, через, следующий, изменение, линия, источник, постоянный, сопротивление, цепь, проводник, напряжение, сила, использовать, электромагнитный, индукция, поток, следовательно, магнит, катушка, переменный, закон, контур\n",
      "Topic 13 европа, народ, страна, восточный, земля, вместе, русь, средний, князь, проживать, довольно, азия, христианство, несмотря, государство, средневековье, голод, индия, племя, охватывать, столетие, киевский, два, затем, отличаться, олег, феодальный, наступать, турция\n",
      "Topic 14 волна, i, вы, свет, the, английский, распространение, я, is, in, to, местность, мой, местоимение, you, распространяться, of, and, are, s, ты, план, will, употреблять, be, any, was, she, игра\n",
      "Topic 15 часть, территория, северный, находиться, здесь, южный, располагать, регион, западный, гора, россия, америка, зона, много, площадь, горный, крупный, равнина, почва, лес, мир, большой, остров, богатый, юг, река, занимать, млн, восток\n",
      "Topic 16 герой, о, произведение, автор, стихотворение, язык, литературный, поэт, творчество, событие, народ, говорить, поэма, русский, создавать, художественный, лирика, знаменитый, лирический, образ, жанр, посвящать, приходиться, использовать, эпос, поэтому, яркий, персонаж, подчеркивать\n",
      "Topic 17 население, количество, составлять, промышленность, тип, центр, место, хозяйство, сельский, отрасль, крупный, численность, австралия, больший, страна, продукция, житель, располагаться, находиться, связь, возрастать, великобритания, около, добыча, железный, показатель, химический, дружба, сегодняшний\n",
      "Topic 18 x, получать, уравнение, х, решение, y, корень, следующий, два, если, sin, угол, cos, вид, находить, квадратный, равный, формула, решать, знак, k, задача, рассматривать, любой, ответ, ноль, а, теперь, иметь\n",
      "Topic 19 сила, заряд, частица, ядро, очень, атом, электрон, свойство, некоторый, направление, действие, вещество, излучение, подросток, вокруг, состоять, заряжать, протон, положительный, результат, бы, отрицательный, нейтрон, противоположный, устанавливать, элемент, строение, ли, однако\n",
      "Topic 20 век, новый, развитие, появляться, становиться, направление, постепенно, школа, развиваться, половина, значительный, конец, м, книга, начало, период, театр, многие, xx, работать, впоследствии, быть, реализм, второй, деятель, русский, латинский, золотой, учение\n",
      "Topic 21 до, война, город, военный, древний, н, армия, смочь, римский, э, действие, территория, войско, быть, рим, противостояние, житель, под, греция, великий, франция, начало, греческий, после, италия, захватить, грек, полностью, красный\n",
      "Topic 22 функция, точка, значение, pi, f, прямой, определение, график, t, область, промежуток, некоторый, ось, рисунок, е, координата, положительный, вектор, отрезок, длина, отмечать, у, относительно, свойство, возрастать, начальный, быть, через, максимум\n",
      "Topic 23 раз, звук, сказка, много, т, практически, создание, вид, анна, е, наоборот, легко, порядок, очень, передаваться, топливо, размер, вы, звуковой, поэтесса, ломоносов, Дж, различать, использование, слышать, удерживать, сатира, небольшой, предполагать\n",
      "Topic 24 число, n, дробь, степень, называться, два, целый, записывать, делиться, например, равный, получаться, натуральный, тоже, m, любой, цифра, единица, десяток, деление, запись, знаменатель, если, множество, ноль, геометрический, сколько, часть, одинаковый\n",
      "Topic 25 a, b, выражение, общий, пример, c, многочлен, сумма, рациональный, множитель, квадрат, разность, скобка, одночлен, умножение, тождество, y, доказывать, знаменатель, сложение, дробный, преобразование, x, формула, воспользоваться, умножать, несколько, раскладывать, слагать\n",
      "Topic 26 природный, ресурс, вид, правовой, климат, условие, федерация, орган, температура, гражданин, закон, пояс, конституция, характерный, обязанность, ветер, лето, комплекс, фактор, закреплять, защита, источник, рф, зима, показатель, юридический, воздушный, климатический, область\n",
      "Topic 27 он, однако, пушкин, еще, роман, оставаться, же, смерть, описывать, где, писать, лермонтов, гоголь, лишь, хотеть, поэт, царь, написать, оказываться, там, сильный, онегин, детство, иван, его, стих, молодой, очень, из-за\n",
      "Topic 28 речь, п, краткий, а, прямой, старик, чужой, косвенный, илья, принадлежать, красивый, цитата, ждать, рыба, горький, раскольников, муромец, легкий, работать, скотоводство, выращивать, шолохов, эпиграф, спасать, одиссея, забирать, густой, способ, мечта\n",
      "Topic 29 она, русский, мир, литература, ее, тема, показывать, писатель, рассказ, ведь, произведение, любовь, проблема, душа, чувство, ценность, человеческий, настоящий, всегда, несмотря, смысл, внимание, раскрывать, нравственный, читатель, внутренний, анализ, мы, жизненный\n"
     ]
    }
   ],
   "source": [
    "H.printLevel(1, {\"phi_top\"}, 30)"
   ]
  },
  {
   "cell_type": "code",
   "execution_count": null,
   "metadata": {
    "collapsed": false
   },
   "outputs": [],
   "source": [
    "print \"Top phi:\"\n",
    "sorted_idxs = np.argsort(phi1, axis=0)\n",
    "for i in range(sorted_idxs.shape[1]):\n",
    "    print \"Topic\", str(i), \", \".join([H.dictionary[j].lower() for j in sorted_idxs[:-30:-1, i]])"
   ]
  },
  {
   "cell_type": "code",
   "execution_count": 11,
   "metadata": {
    "collapsed": false
   },
   "outputs": [
    {
     "name": "stdout",
     "output_type": "stream",
     "text": [
      "iteration = 0\n",
      "iteration = 1\n",
      "iteration = 2\n",
      "iteration = 3\n",
      "iteration = 4\n",
      "iteration = 5\n",
      "iteration = 6\n",
      "iteration = 7\n",
      "iteration = 8\n",
      "iteration = 9\n",
      "Wall time: 32.5 s\n"
     ]
    }
   ],
   "source": [
    "H.addReg(0, \"sp_sm_Phi_prior\", np.array([-5000]*5+[10000, 0])*10, 10)\n",
    "H.addReg(0, \"sp_sm_Phi\", np.array([0 for i in range(6)]+[-10]))\n",
    "H.addReg(0, \"sp_sm_Theta\", np.array([-5]*5+[10, 10])*0.1, 10)\n",
    "H.addReg(0, \"dec\", 1e6)\n",
    "%time H.constructLevel(0, 10)"
   ]
  },
  {
   "cell_type": "code",
   "execution_count": 14,
   "metadata": {
    "collapsed": false
   },
   "outputs": [
    {
     "data": {
      "text/plain": [
       "array([[ 0.    ,  0.1704,  0.2359,  0.5668,  0.0269],\n",
       "       [ 0.    ,  0.006 ,  0.    ,  0.9659,  0.0282],\n",
       "       [ 0.    ,  0.    ,  0.    ,  0.9931,  0.0069],\n",
       "       [ 0.    ,  0.3306,  0.0545,  0.5838,  0.0311],\n",
       "       [ 0.4913,  0.0015,  0.0039,  0.4969,  0.0064],\n",
       "       [ 0.3845,  0.    ,  0.    ,  0.5561,  0.0594],\n",
       "       [ 0.    ,  0.    ,  0.3305,  0.4704,  0.1991],\n",
       "       [ 0.    ,  0.    ,  0.    ,  0.9821,  0.0179],\n",
       "       [ 0.    ,  0.3   ,  0.    ,  0.6717,  0.0282],\n",
       "       [ 0.    ,  0.5096,  0.    ,  0.4014,  0.0889]])"
      ]
     },
     "execution_count": 14,
     "metadata": {},
     "output_type": "execute_result"
    }
   ],
   "source": [
    "np.set_printoptions(precision=4, suppress=True)\n",
    "H.levels[0].theta.T[:10]"
   ]
  },
  {
   "cell_type": "code",
   "execution_count": 52,
   "metadata": {
    "collapsed": false
   },
   "outputs": [
    {
     "name": "stdout",
     "output_type": "stream",
     "text": [
      "Top phi:\n",
      "Topic 0 быть, в, тело, на, с, мы, предмет, то, колебание, скорость, что, время, от, по, t, i, при, температура, ускорение\n",
      "Topic 1 в, предложение, слово, и, речь, который, например, глагол, не, с, что, на, или, к, как, я, член, он, главный\n",
      "Topic 2 в, тело, энергия, и, движение, это, скорость, при, с, сила, на, масса, как, быть, а, другой, колебание, мочь, мы\n",
      "Topic 3 и, в, он, то, быть, русский, человек, не, время, на, свой, герой, его, это, этот, который, роман, что, гоголь\n",
      "Topic 4 в, который, на, не, быть, из, рынок, как, религиозный, ядерный, весь, количество, также, религия, император, становиться, а, год, труд\n",
      "Topic 5 в, и, быть, мы, то, магнитный, что, который, на, с, тело, направление, при, они, поле, от, магнит, линия, этот\n",
      "Topic 6 в, и, год, на, который, война, век, быть, население, государство, африка, школа, новый, военный, до, весь, начало, мировой, такой\n",
      "Topic 7 в, и, который, на, быть, себя, как, для, это, с, лермонтов, не, свой, то, этот, экономический, он, общение, год\n",
      "Topic 8 в, государство, и, быть, год, на, который, страна, политика, с, политический, к, государственный, власть, ссср, правительство, российский, население, х\n",
      "Topic 9 в, и, он, поэт, стихотворение, пушкин, герой, не, что, его, свой, который, о, но, к, произведение, это, творчество, поэма\n",
      "Topic 10 в, и, русский, человек, на, не, литература, жизнь, культура, о, с, она, свой, произведение, век, как, это, весь, он\n",
      "Topic 11 быть, в, и, на, город, государство, год, до, становиться, не, царь, который, свой, век, армия, империя, война, они, начинать\n",
      "Topic 12 в, и, он, что, не, ядро, на, атом, а, это, частица, быть, излучение, этот, его, из, однако, но, электрон\n",
      "Topic 13 и, быть, на, для, они, этот, это, не, что, из, за, весь, у, то, к, друг, бог, как, который\n",
      "Topic 14 и, в, sin, a, cos, который, на, а, луч, выражение, как, мы, произведение, линза, о, сторона, это, текст, быть\n",
      "Topic 15 в, человек, жизнь, свой, и, который, век, не, что, произведение, с, волна, духовный, общество, они, герой, это, весь, на\n",
      "Topic 16 и, в, право, группа, на, политический, который, закон, система, это, гражданин, источник, звук, мочь, быть, социальный, как, являться, цепь\n",
      "Topic 17 человек, в, и, социальный, общество, ребенок, который, на, отношение, не, право, общественный, такой, деятельность, они, родитель, семья, быть, как\n",
      "Topic 18 a, x, b, уравнение, n, в, корень, pi, а, точка, функция, быть, и, решение, для, c, получать, квадратный, угол\n",
      "Topic 19 и, сила, в, что, то, который, не, мы, этот, от, это, а, такой, быть, как, писатель, их, но, к\n",
      "Topic 20 в, ток, право, и, электрический, поле, на, быть, при, это, этот, магнитный, проводник, заряд, с, являться, государство, не, а\n",
      "Topic 21 в, и, на, территория, северный, с, россия, южный, гора, часть, равнина, горный, восточный, река, который, этот, океан, русский, земля\n",
      "Topic 22 в, и, the, я, не, быть, i, вы, местоимение, они, он, язык, is, она, с, у, время, in, мы\n",
      "Topic 23 и, в, страна, производство, который, государство, мир, являться, развитие, на, ресурс, экономика, промышленность, экономический, сша, хозяйство, человек, основной, мировой\n",
      "Topic 24 и, в, свой, не, он, что, который, быть, она, его, жизнь, они, человек, то, это, становиться, весь, этот, рассказ\n",
      "Topic 25 и, в, который, быть, не, свой, с, герой, жизнь, литературный, к, советский, народ, год, характер, становиться, человек, произведение, как\n",
      "Topic 26 и, в, который, быть, на, то, это, искусство, свой, к, не, его, но, они, период, как, такой, мир, другой\n",
      "Topic 27 функция, в, на, быть, значение, с, точка, и, х, f, график, а, при, этот, y, у, что, если, то\n",
      "Topic 28 число, и, на, дробь, в, выражение, быть, мы, то, с, не, который, знаменатель, например, этот, это, как, два, получать\n",
      "Topic 29 в, он, свой, человек, не, о, жизнь, его, с, который, что, на, к, рассказ, и, себя, а, как, весь\n"
     ]
    }
   ],
   "source": [
    "H.printLevel(1, {\"phi_top\"}, 20)"
   ]
  },
  {
   "cell_type": "code",
   "execution_count": 24,
   "metadata": {
    "collapsed": false
   },
   "outputs": [
    {
     "name": "stdout",
     "output_type": "stream",
     "text": [
      "S= 20\n",
      "costruct S= 20\n",
      "Added 1 -th level\n"
     ]
    }
   ],
   "source": [
    "del H.levels[1]\n",
    "H.addLevel(20, lambda_=1)"
   ]
  },
  {
   "cell_type": "code",
   "execution_count": null,
   "metadata": {
    "collapsed": false
   },
   "outputs": [],
   "source": []
  }
 ],
 "metadata": {
  "kernelspec": {
   "display_name": "Python 2",
   "language": "python",
   "name": "python2"
  },
  "language_info": {
   "codemirror_mode": {
    "name": "ipython",
    "version": 2
   },
   "file_extension": ".py",
   "mimetype": "text/x-python",
   "name": "python",
   "nbconvert_exporter": "python",
   "pygments_lexer": "ipython2",
   "version": "2.7.10"
  }
 },
 "nbformat": 4,
 "nbformat_minor": 0
}
