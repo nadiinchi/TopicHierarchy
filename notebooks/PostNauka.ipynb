{
 "cells": [
  {
   "cell_type": "code",
   "execution_count": 1,
   "metadata": {
    "collapsed": false
   },
   "outputs": [
    {
     "data": {
      "text/plain": [
       "<module 'hAPTM' from 'hAPTM.pyc'>"
      ]
     },
     "execution_count": 1,
     "metadata": {},
     "output_type": "execute_result"
    }
   ],
   "source": [
    "import numpy as np\n",
    "import hAPTM\n",
    "reload(hAPTM)"
   ]
  },
  {
   "cell_type": "code",
   "execution_count": 5,
   "metadata": {
    "collapsed": true
   },
   "outputs": [],
   "source": [
    "from matplotlib import pyplot as plt\n",
    "%matplotlib inline"
   ]
  },
  {
   "cell_type": "code",
   "execution_count": 2,
   "metadata": {
    "collapsed": false
   },
   "outputs": [],
   "source": [
    "H = hAPTM.hAPTM()\n",
    "#direc = \"/media/nadia/TOSHIBA EXT/PTM/data/\"\n",
    "#direc = \"D:/PTM/data/school_collection/\"\n",
    "direc = \"D:/PTM/data/postnauka/\"\n",
    "H.parseFromTxt(direc+\"ndw.txt\")\n",
    "H.parseDictionaryFromTxt(direc+\"dict.txt\", True)"
   ]
  },
  {
   "cell_type": "code",
   "execution_count": 99,
   "metadata": {
    "collapsed": true
   },
   "outputs": [],
   "source": [
    "H = hAPTM.hAPTM()\n",
    "#direc = \"/media/nadia/TOSHIBA EXT/PTM/data/\"\n",
    "direc = \"D:/PTM/data/phrases_collection_versions/phrases/\"\n",
    "H.parseFromTxt(direc+\"ndw.txt\")\n",
    "H.parseDictionaryFromTxt(direc+\"dict.txt\", False)"
   ]
  },
  {
   "cell_type": "code",
   "execution_count": 109,
   "metadata": {
    "collapsed": true
   },
   "outputs": [],
   "source": [
    "import copy\n",
    "Hp = copy.deepcopy(H)"
   ]
  },
  {
   "cell_type": "code",
   "execution_count": 110,
   "metadata": {
    "collapsed": false
   },
   "outputs": [],
   "source": [
    "H.reset([1, 8, 35])"
   ]
  },
  {
   "cell_type": "code",
   "execution_count": 30,
   "metadata": {
    "collapsed": false
   },
   "outputs": [
    {
     "data": {
      "text/plain": [
       "1728"
      ]
     },
     "execution_count": 30,
     "metadata": {},
     "output_type": "execute_result"
    }
   ],
   "source": [
    "H.D"
   ]
  },
  {
   "cell_type": "code",
   "execution_count": 111,
   "metadata": {
    "collapsed": true
   },
   "outputs": [],
   "source": [
    "L = len(Hp.graph.phis)\n",
    "for l in range(L):\n",
    "    H.graph.phis[l][:, :] = Hp.graph.phis[l][:, :]\n",
    "for l in range(L-1):\n",
    "    H.graph.psis[l][:, :] = Hp.graph.psis[l][:, :]"
   ]
  },
  {
   "cell_type": "code",
   "execution_count": 159,
   "metadata": {
    "collapsed": false
   },
   "outputs": [],
   "source": [
    "H.graph.psis[1][: ,:] = np.random.rand(*H.graph.psis[1].shape)\n",
    "H.graph.psis[1] /= H.graph.psis[1].sum(axis=0)[np.newaxis, :]"
   ]
  },
  {
   "cell_type": "code",
   "execution_count": 116,
   "metadata": {
    "collapsed": false
   },
   "outputs": [
    {
     "name": "stdout",
     "output_type": "stream",
     "text": [
      "Wall time: 28min 29s\n"
     ]
    }
   ],
   "source": [
    "%time LL = H.construct(40)"
   ]
  },
  {
   "cell_type": "code",
   "execution_count": null,
   "metadata": {
    "collapsed": false
   },
   "outputs": [],
   "source": [
    "for it in range(20):\n",
    "    LL += H.construct(1)\n",
    "    scores = H.regularize(1.5, None, None, True)\n",
    "    print scores"
   ]
  },
  {
   "cell_type": "code",
   "execution_count": 160,
   "metadata": {
    "collapsed": true
   },
   "outputs": [],
   "source": [
    "LL += H.construct(20)"
   ]
  },
  {
   "cell_type": "code",
   "execution_count": 161,
   "metadata": {
    "collapsed": true
   },
   "outputs": [],
   "source": [
    "LL += H.construct(20)"
   ]
  },
  {
   "cell_type": "code",
   "execution_count": 116,
   "metadata": {
    "collapsed": true
   },
   "outputs": [],
   "source": [
    "H.graph.params = {\"smooth_phi\": {\"pow\": 2.5, \"coef\": 1e9}}\n",
    "LL4 = H.construct(20)"
   ]
  },
  {
   "cell_type": "code",
   "execution_count": 84,
   "metadata": {
    "collapsed": false
   },
   "outputs": [],
   "source": [
    "self = H.graph\n",
    "common_phi = np.zeros((self.phis[0].shape[0], 0))\n",
    "theta = self.theta\n",
    "for phi_idx in range(self.L-1, -1, -1):\n",
    "    p_s = (theta*(self.eta[phi_idx, :]*self.p_d)[np.newaxis, :]).sum(axis=1)\n",
    "    common_phi = np.hstack((common_phi, self.phis[phi_idx]*p_s[np.newaxis, :]))\n",
    "    if phi_idx > 0:\n",
    "        theta = self.psis[phi_idx-1].dot(theta)\n",
    "topics_count = common_phi.shape[1]\n",
    "common_phi /= common_phi.sum(axis=1)[:, np.newaxis] + 1e-100"
   ]
  },
  {
   "cell_type": "code",
   "execution_count": 74,
   "metadata": {
    "collapsed": false
   },
   "outputs": [
    {
     "data": {
      "text/plain": [
       "(array([ 0, 40, 49, 50], dtype=int64), 50L)"
      ]
     },
     "execution_count": 74,
     "metadata": {},
     "output_type": "execute_result"
    }
   ],
   "source": [
    "intervals, topics_count"
   ]
  },
  {
   "cell_type": "code",
   "execution_count": 231,
   "metadata": {
    "collapsed": true
   },
   "outputs": [],
   "source": [
    "LL_cp = LL"
   ]
  },
  {
   "cell_type": "code",
   "execution_count": 230,
   "metadata": {
    "collapsed": false
   },
   "outputs": [
    {
     "data": {
      "text/plain": [
       "[<matplotlib.lines.Line2D at 0x228a0400>]"
      ]
     },
     "execution_count": 230,
     "metadata": {},
     "output_type": "execute_result"
    },
    {
     "data": {
      "image/png": "[encoded data removed]",
      "text/plain": [
       "<matplotlib.figure.Figure at 0x1293a6d8>"
      ]
     },
     "metadata": {},
     "output_type": "display_data"
    }
   ],
   "source": [
    "plt.plot(LL)"
   ]
  },
  {
   "cell_type": "code",
   "execution_count": 52,
   "metadata": {
    "collapsed": false
   },
   "outputs": [
    {
     "data": {
      "text/plain": [
       "array([ 0,  1, 10, 50], dtype=int64)"
      ]
     },
     "execution_count": 52,
     "metadata": {},
     "output_type": "execute_result"
    }
   ],
   "source": [
    "intervals"
   ]
  },
  {
   "cell_type": "code",
   "execution_count": 28,
   "metadata": {
    "collapsed": false
   },
   "outputs": [],
   "source": [
    "H.graph.build(10)"
   ]
  },
  {
   "cell_type": "code",
   "execution_count": 209,
   "metadata": {
    "collapsed": false
   },
   "outputs": [
    {
     "data": {
      "text/plain": [
       "<matplotlib.image.AxesImage at 0x125fcbe0>"
      ]
     },
     "execution_count": 209,
     "metadata": {},
     "output_type": "execute_result"
    },
    {
     "data": {
      "image/png": "[encoded data removed]",
      "text/plain": [
       "<matplotlib.figure.Figure at 0x11c05860>"
      ]
     },
     "metadata": {},
     "output_type": "display_data"
    }
   ],
   "source": [
    "plt.figure(figsize=(15, 7))\n",
    "plt.imshow((Hp.graph.theta)[:, :100], cmap=\"gray\", interpolation=\"none\")"
   ]
  },
  {
   "cell_type": "code",
   "execution_count": 212,
   "metadata": {
    "collapsed": false
   },
   "outputs": [
    {
     "data": {
      "text/plain": [
       "<matplotlib.image.AxesImage at 0x180eb2e8>"
      ]
     },
     "execution_count": 212,
     "metadata": {},
     "output_type": "execute_result"
    },
    {
     "data": {
      "image/png": "[encoded data removed]",
      "text/plain": [
       "<matplotlib.figure.Figure at 0x11b283c8>"
      ]
     },
     "metadata": {},
     "output_type": "display_data"
    }
   ],
   "source": [
    "plt.figure(figsize=(15, 7))\n",
    "plt.imshow((Hp.graph.theta)[:, :100]-(H.graph.psis[1].dot(H.graph.theta))[:, :100], cmap=\"gray\", interpolation=\"none\")"
   ]
  },
  {
   "cell_type": "code",
   "execution_count": 215,
   "metadata": {
    "collapsed": false
   },
   "outputs": [
    {
     "data": {
      "text/plain": [
       "array([[  8.26861403e-11,   1.53740172e-02,   9.84625983e-01],\n",
       "       [  2.65672550e-05,   7.27594509e-01,   2.72378924e-01],\n",
       "       [  1.28717803e-01,   5.81084892e-02,   8.13173707e-01],\n",
       "       ..., \n",
       "       [  2.60263233e-01,   1.86556620e-11,   7.39736767e-01],\n",
       "       [  5.26533495e-03,   3.50991992e-06,   9.94731155e-01],\n",
       "       [  2.07882179e-02,   7.58588198e-02,   9.03352962e-01]])"
      ]
     },
     "execution_count": 215,
     "metadata": {},
     "output_type": "execute_result"
    }
   ],
   "source": [
    "H.graph.eta.T"
   ]
  },
  {
   "cell_type": "code",
   "execution_count": 69,
   "metadata": {
    "collapsed": false
   },
   "outputs": [
    {
     "name": "stdout",
     "output_type": "stream",
     "text": [
      "  0 0.000003 0.200580 0.650888 0.039368 0.000000 0.083653 0.025507 0.000000\n",
      "  1 0.000153 0.064881 0.714842 0.012303 0.000000 0.161596 0.046220 0.000005\n",
      "  2 0.060469 0.000303 0.013887 0.000321 0.000052 0.545237 0.379707 0.000024\n",
      "  3 0.006184 0.179043 0.201388 0.430008 0.037174 0.129062 0.017140 0.000002\n",
      "  4 0.000160 0.296052 0.545252 0.083039 0.000000 0.055307 0.020178 0.000012\n",
      "  5 0.000612 0.052879 0.017876 0.000009 0.000086 0.051999 0.876534 0.000005\n",
      "  6 0.886486 0.010602 0.005004 0.000000 0.000000 0.083432 0.014476 0.000000\n",
      "  7 0.000042 0.000171 0.002002 0.000000 0.000000 0.012080 0.003549 0.982155\n",
      "  8 0.862096 0.079043 0.012872 0.000147 0.000000 0.044365 0.001475 0.000002\n",
      "  9 0.001658 0.022721 0.010737 0.000049 0.000001 0.092479 0.872353 0.000001\n",
      " 10 0.000137 0.784781 0.083885 0.075170 0.000000 0.055335 0.000692 0.000000\n",
      " 11 0.004653 0.665488 0.077200 0.090333 0.000000 0.111373 0.050953 0.000000\n",
      " 12 0.002950 0.008616 0.007337 0.000002 0.001417 0.167907 0.175192 0.636577\n",
      " 13 0.203855 0.258478 0.086383 0.001839 0.000000 0.375128 0.074309 0.000008\n",
      " 14 0.000009 0.000021 0.000085 0.000000 0.974157 0.012656 0.013072 0.000000\n",
      " 15 0.613947 0.013608 0.068056 0.000005 0.000000 0.205379 0.099004 0.000000\n",
      " 16 0.000625 0.009521 0.023635 0.000000 0.000006 0.873778 0.073525 0.018911\n",
      " 17 0.076998 0.034602 0.007008 0.000001 0.000000 0.083215 0.000333 0.797843\n",
      " 18 0.005005 0.517707 0.171537 0.225859 0.000000 0.075775 0.004084 0.000032\n",
      " 19 0.000048 0.290883 0.033907 0.671893 0.000001 0.003039 0.000228 0.000000\n",
      " 20 0.000009 0.042155 0.908830 0.000048 0.000000 0.047771 0.001166 0.000022\n",
      " 21 0.000040 0.079970 0.011855 0.000407 0.000198 0.086713 0.000013 0.820804\n",
      " 22 0.313994 0.063648 0.135763 0.000000 0.000000 0.313223 0.172136 0.001236\n",
      " 23 0.000030 0.017214 0.002313 0.980063 0.000000 0.000373 0.000007 0.000000\n",
      " 24 0.388332 0.027486 0.116893 0.000007 0.000000 0.319206 0.148075 0.000000\n",
      " 25 0.889961 0.014790 0.027561 0.000000 0.000000 0.063477 0.004212 0.000000\n",
      " 26 0.051193 0.078264 0.146095 0.000257 0.000001 0.269069 0.454204 0.000916\n",
      " 27 0.019921 0.409523 0.302587 0.000532 0.000000 0.189211 0.078225 0.000000\n",
      " 28 0.027989 0.019913 0.045954 0.000148 0.000001 0.853501 0.052482 0.000012\n",
      " 29 0.563942 0.044789 0.101811 0.000005 0.000000 0.280334 0.009108 0.000012\n",
      " 30 0.005239 0.032058 0.061838 0.000526 0.000002 0.638218 0.256771 0.005348\n",
      " 31 0.000014 0.115012 0.820739 0.000551 0.000000 0.042326 0.021357 0.000000\n",
      " 32 0.000069 0.001544 0.915023 0.006289 0.000001 0.027695 0.049375 0.000003\n",
      " 33 0.002332 0.056444 0.001988 0.905924 0.000000 0.028457 0.004170 0.000684\n",
      " 34 0.006004 0.659636 0.212704 0.018980 0.000000 0.101668 0.001008 0.000001\n"
     ]
    }
   ],
   "source": [
    "for i, li in enumerate(H.graph.psis[1].T):\n",
    "    print \"%3d\"%i,\n",
    "    for el in li:\n",
    "        print \"%5f\"%el,\n",
    "    print"
   ]
  },
  {
   "cell_type": "code",
   "execution_count": 51,
   "metadata": {
    "collapsed": false
   },
   "outputs": [],
   "source": [
    "phi1 = H.graph.phis[1] + H.graph.phis[2].dot(H.graph.psis[1].T)"
   ]
  },
  {
   "cell_type": "code",
   "execution_count": 38,
   "metadata": {
    "collapsed": false
   },
   "outputs": [
    {
     "name": "stdout",
     "output_type": "stream",
     "text": [
      "Top phi:\n",
      "Topic 0 свой, самый, какой-то, говорить, наука, например, новый, большой, становиться, являться, происходить, образ, называть, век, существовать, проблема, разный, рассказывать, дело, оказываться, вопрос, мир, знать, должный, история, начинать, возникать, поэтому, некоторый, современный, понимать, культура, сторона, друг, русский, часть, работа, вид, видеть, случай, появляться, сделать, давать, политический, теория, создавать, развитие, делать, определенный, достаточно, интересный, момент, смысл, точка, социальный, представлять, связывать, текст, форма, находиться, основной, что-то, отношение, ситуация, группа, далее, называться, совершенно, позволять, идти, результат, конец, место, тип, показывать, высокий, доктор, понятие, находить, россия, слово, связанный, число, известный, принцип, идея, роль, любой, многий, изучать, либо, кандидат, общий, жить\n"
     ]
    }
   ],
   "source": [
    "H.printLevel(0, {\"phi_top\"}, 95)"
   ]
  },
  {
   "cell_type": "code",
   "execution_count": 113,
   "metadata": {
    "collapsed": false
   },
   "outputs": [
    {
     "name": "stdout",
     "output_type": "stream",
     "text": [
      "Top phi:\n",
      "Topic 0 клетка, днк, белок, ген, молекула, организм, структура, геном, последовательность, биологический, происходить, биология, рнк, форма, разный, образ, являться, система, рассказывать, функция, молекулярный, самый, эволюция, наука, процесс, какой-то, генетический, нервный, оказываться, существовать, флуоресцентный, живой, бактерия, изменение, вид, развитие, отбор, мутация, вирус, животное, белка, работа, спираль, новый, нужный, понимать, работать, метод, совершенно, получаться, случай, уровень, например, определять\n",
      "Topic 1 звезда, планета, земля, большой, система, масса, вещество, нейтронный, атмосфера, белый, карлик, видеть, объект, солнце, космический, какой-то, излучение, самый, энергия, происходить, поэтому, поверхность, получать, находиться, телескоп, процесс, достаточно, интересный, свой, примерно, начинать, солнечный, открывать, размер, маленький, знать, тип, разный, существовать, спектр, температура, радиус, говорить, порядок, изучать, расстояние, поскольку, становиться, например, образовываться, экзопланет, скорость, спутник, сергей\n",
      "Topic 2 частица, теория, взаимодействие, физика, квантовый, поле, кварк, энергия, модель, волна, масса, электрон, фотон, симметрия, новый, атом, самый, элементарный, нейтрино, стандартный, оказываться, эксперимент, являться, пространство, называть, большой, фундаментальный, существовать, происходить, состояние, материя, мир, какой-то, состоять, свойство, вселенная, сила, свет, возникать, скорость, описывать, друг, природа, протон, говорить, уравнение, явление, знать, электромагнитный, бозон, современный, заряд, сильный, физик\n",
      "Topic 3 галактика, звезда, диск, скопление, вселенная, звездный, газ, объект, фильм, спиральный, самый, большой, гравитационный, расстояние, скорость, эволюция, астроном, телескоп, образовываться, культовый, линзовидный, двигаться, спутник, кино, становиться, всплеск, темный, происходить, видеть, свой, система, наблюдение, быстро, небо, знать, миллиард, разный, масса, орбита, наблюдать, кинематограф, звездообразование, движение, существовать, размер, наука, массивный, возраст, сторона, астрономия, вращаться, находиться, бердяев, горячий\n",
      "Topic 4 задача, например, проблема, опыт, решение, исследование, получать, что-то, существовать, объект, вид, предложение, начинать, понимать, использовать, система, какой-то, метод, являться, вопрос, решать, наука, вещь, называться, группа, говорить, ответ, знание, самый, давать, поэтому, ситуация, тип, далее, тест, речь, находить, степень, разный, возникать, идти, момент, происходить, конец, схема, посмотреть, свойство, фразеологизм, понятно, образование, функция, мышление, делать, образ\n",
      "Topic 5 задача, память, какой-то, мозг, модель, процесс, слово, образ, например, система, решение, информация, внимание, объект, метод, самый, теория, эксперимент, мышление, результат, обучение, показывать, поведение, называть, сложный, решать, получать, оказываться, ошибка, связь, компьютер, число, что-то, простой, использовать, зрительный, исследование, оценка, давать, сторона, нейронный, дело, область, схема, эффект, большой, достаточно, способность, алгоритм, друг, хороший, связывать, психология, восприятие\n",
      "Topic 6 данные, сеть, информация, задача, язык, наука, память, компьютер, программа, система, исследование, работать, область, создавать, новый, свой, использовать, какой-то, психология, например, технология, самый, анализ, некоторый, знание, большой, метод, заниматься, процесс, становиться, появляться, данный, понятие, социальный, работа, пользователь, говорить, когнитивный, проблема, степень, компьютерный, изучать, разный, алгоритм, друг, позволять, любой, интернет, математика, решать, компилятор, устройство, интеллект, определенный\n",
      "Topic 7 система, теория, пространство, какой-то, свой, относительность, момент, знак, двигаться, самый, появляться, описывать, земля, друг, парадокс, точка, александр, образ, являться, дело, происходить, работа, случай, сложный, отношение, специальный, далее, орден, интерпретация, относительно, например, принцип, представлять, говорить, конец, модель, большой, гипотеза, должный, отсчет, факт, смысл, общий, идти, данные, оказываться, граница, объяснять, закон, скорость, данный, существовать, событие, где-то\n"
     ]
    }
   ],
   "source": [
    "H.printLevel(1, {\"phi_top\"}, 55)"
   ]
  },
  {
   "cell_type": "code",
   "execution_count": 114,
   "metadata": {
    "collapsed": false
   },
   "outputs": [
    {
     "name": "stdout",
     "output_type": "stream",
     "text": [
      "Top phi:\n",
      "Topic 0 боль, трудность, животное, какой-то, проблема, самый, вид, организм, говорить, пациент, развитие, фильм, создавать, далее, стратегия, разный, лечение, являться, свой, книга, называть, психология, психологический, вегетативный, след, наука, существовать, группа, анализ, деструктивный, например, новый, изменение, личность, некоторый, поведенческий, тип, находить, стресс, отношение, самоутверждение, поведение, иной, современный, синдром, понимать, болевой, сожаление, метод, друг, конец, существо, конструктивный, нарушение\n",
      "Topic 1 решение, теория, говорить, например, социальный, свой, какой-то, самый, вопрос, знать, экономический, должный, экономист, некоторый, экономика, ценность, проблема, принятие, являться, язык, большой, понимать, объект, диабет, информация, точка, парк, исследование, что-то, принимать, сахарный, делать, выбор, сторона, оказываться, группа, дело, область, благо, деньги, социологический, ситуация, пытаться, разный, общественный, видеть, предполагать, называть, становиться, предмет, Хомски, ход, выбирать, наука\n",
      "Topic 2 слово, язык, например, говорить, век, самый, новый, свой, становиться, наука, тысяча, мамонт, количество, яйцеклетка, китайский, большой, революция, известный, получать, часть, факультет, взять, начинать, клонировать, частотность, образ, частотный, культура, врач, ритуальный, существовать, работать, называть, народ, рассказывать, ученый, являться, медицинский, древний, эпоха, место, праязык, животное, текст, находиться, ядро, степень, государь, словарь, принцип, правитель, друг, жить, русский\n",
      "Topic 3 театр, самый, говорить, какой-то, свой, пьеса, монголоид, называть, раса, праздник, лосев, катастрофа, русский, дело, актер, новый, аляска, америка, фрейм, происходить, театральный, например, оказываться, разный, большой, некоторый, индеец, наука, вещь, роль, российский, друг, мир, делать, теория, корпус, документ, знать, портрет, момент, коллективный, сакральный, сцена, семиотика, кринолин, компания, век, существовать, власть, представление, чернышевский, вопрос, социальный, костюм\n",
      "Topic 4 температура, сверхпроводимость, сверхпроводник, магнитный, элемент, магнит, теория, соединение, железо, сверхпроводящий, высокий, александр, поэтому, поле, новый, существовать, электроника, самый, вид, материал, кельвин, критический, основа, задача, переход, сильный, большой, состояние, свой, атом, медь, электрон, происходить, платон, возможность, механизм, работать, низкий, сложный, далее, великий, открытие, высокотемпературный, невский, исследование, земля, сделать, значение, создавать, возникать, энергия, применение, сторона, дело\n",
      "Topic 5 робот, говорить, язык, свой, исследование, некоторый, какой-то, анекдот, социологический, текст, проблема, например, что-то, вопрос, самый, друг, задача, дело, наука, понимать, внимание, образование, конструкция, лицо, образ, модель, делать, сторона, робототехника, рассказывать, часть, информация, становиться, метафора, позволять, объект, большой, далее, структура, работа, начинать, создавать, описывать, сделать, оказываться, корпус, концептуализации, равный, пример, называть, получать, ресурс, давать, видеть\n",
      "Topic 6 мир, море, океан, восприятие, тело, объект, говорить, черный, часть, самый, представление, находиться, советский, образ, разный, происходить, воспринимать, волна, свой, территория, вестерн, являться, фильм, например, называть, грек, герой, жест, миф, глаз, греческий, признак, век, связывать, свойство, пространство, бог, предмет, большой, поэтому, остров, сила, период, история, размер, древний, человеческий, главный, небо, изображение, форма, россия, показывать, хаос\n",
      "Topic 7 материал, система, создавать, новый, свет, использовать, элемент, создание, определенный, солнечный, использование, называть, работать, технология, эффективность, работа, образ, направление, электричество, мышца, например, научение, ткань, должный, синтетический, объект, различный, тип, проблема, термоэлектрический, категориальный, самый, большой, данный, количество, машина, энергия, говорить, достаточно, сделать, поэтому, биомеханика, основа, аккумулятор, применение, соединение, органический, допускать, вербальный, пунктуация, появляться, находить, существовать, керамика\n",
      "Topic 8 язык, русский, век, христианский, русь, говорить, письменность, слово, восток, текст, письмо, культура, словарь, китай, святой, христианство, мир, например, свой, самый, образ, владимир, становиться, поэтому, традиция, называть, церковь, германский, существовать, повесть, славянский, древний, европа, китайский, запад, цитата, место, азия, знать, великий, бог, большой, князь, временной, какой-то, византийский, книга, римский, начинать, интересный, крещение, являться, софия, представлять\n",
      "Topic 9 музей, наука, свой, качество, критерий, библиотека, система, программный, академия, современный, должный, разработка, становиться, большой, работать, проблема, самый, говорить, история, рассказывать, возникать, работа, новый, проект, решение, вопрос, закон, количество, мотивация, направление, ученый, требование, русский, модель, труд, музейный, магия, заговор, мир, являться, контроль, разный, задача, оказываться, технология, исследование, заниматься, обеспечение, род, развитие, король, создание, научный, компания\n",
      "Topic 10 словарь, система, какой-то, землетрясение, самый, например, вид, сейсмический, ощущение, организм, видеть, большой, условие, структура, метод, свой, происходить, дело, мир, поверхность, структурный, тип, чувствительность, образ, место, бог, изучать, понимать, прогноз, среда, геологический, иной, нужный, современный, существовать, геология, царь, друг, складка, должный, реакция, изменение, заниматься, исследование, воздействие, земной, древний, наука, территория, становиться, сильный, определенный, общий, оценка\n",
      "Topic 11 вода, газ, земля, озеро, наука, большой, происходить, проблема, атмосфера, условие, изменение, климат, количество, микроорганизм, температура, рассказывать, огромный, кислород, биологический, океан, организм, концентрация, развитие, энергетика, город, метан, модель, начинать, водород, самый, природный, фактор, энергия, уровень, получать, какой-то, натрий, говорить, интересный, ледник, разный, парниковый, солнечный, россия, становиться, углерод, процесс, ученый, мир, делать, градус, доктор, достаточно, соленый\n",
      "Topic 12 культура, миф, русский, свой, говорить, война, мифология, бог, эмиграция, какой-то, греческий, век, россия, самый, ницше, костюм, начинать, знать, представление, советский, эмигрант, мировой, становиться, конвент, страна, называть, дележ, монтаньяр, слово, начало, оказываться, древний, должный, мир, аполлон, германия, давать, образ, периодизация, возникать, сторона, революция, ирландия, часть, идти, поэтому, франция, дионис, политический, история, вульгарность, общество, современный, что-то\n",
      "Topic 13 растение, рецептор, метод, наука, препарат, новый, заболевание, белок, организм, исследование, рассказывать, ген, биологический, работать, ученый, система, молекула, лекарство, какой-то, механизм, медицина, соединение, использоваться, получать, находить, средство, подход, молекулярный, поэтому, либо, современный, существовать, развитие, достаточно, лекарственный, данный, являться, испытание, животное, создавать, область, большой, например, антитело, называть, процесс, доктор, основной, позволять, изучать, активный, появляться, селекция, кандидат\n",
      "Topic 14 город, городской, право, советский, россия, закон, свой, революция, становиться, власть, горожанин, самый, говорить, суд, дело, пространство, страна, император, история, образ, происходить, правовой, местный, локальный, политический, место, отношение, рабочий, республика, функция, государственный, должный, вещь, развитие, какой-то, существовать, называть, мировой, далее, российский, идентичность, столыпин, германия, поэтому, дума, среда, новый, юрист, москва, сторона, бавария, например, житель, современный\n",
      "Topic 15 материал, структура, молекула, новый, химический, химия, свойство, получать, вещество, углерод, соединение, метод, поверхность, давление, атом, реакция, алмаз, связь, высокий, являться, углеродный, кристалл, например, достаточно, самый, органический, процесс, кристаллический, задача, использовать, энергия, интересный, температура, элемент, оказываться, твердый, различный, нанотрубки, предсказание, система, приводить, синтез, свой, сверхтвердый, удаваться, электронный, условие, исследование, предсказывать, бор, область, изучать, позволять, обладать\n",
      "Topic 16 должник, свой, обязательство, исполнение, становиться, теория, должный, наука, кредитор, получать, отношение, реформа, возникать, самый, революция, право, контракт, происходить, новый, ошибка, говорить, вопрос, век, решение, делать, франция, действие, король, подчиненный, экономический, екатерина, часть, давать, сделать, ситуация, дело, какой-то, понимать, интерес, банк, начальник, экономика, начинать, оказываться, деньги, означать, медицина, договор, воображение, французский, невозможность, работа, римский, фактор\n",
      "Topic 17 война, россия, свой, партия, дело, университет, гражданский, век, страна, реформа, говорить, русский, какой-то, право, степень, самый, система, ученый, вопрос, штат, мировой, французский, император, интервенция, мигрант, мир, оказываться, xviii, поэтому, большевик, проводить, начало, союзный, данте, поскольку, профессор, двор, сказка, смысл, власть, проблема, знать, начинать, монархия, текст, становиться, революция, история, закон, белый, являться, проходить, идти, образ\n",
      "Topic 18 век, язык, христианский, арабский, культура, христианин, свой, сирийский, государство, араб, говорить, являться, политический, большой, называть, восток, цивилизация, самый, город, территория, история, знать, мир, группа, христианство, мандельштам, эфиопский, возникать, муравей, часть, какой-то, самец, самка, традиция, видеть, майя, связывать, происходить, сириец, памятник, империя, поэтому, существовать, жить, исторический, проблема, некоторый, прежде, место, литература, современный, наука, классический, правитель\n",
      "Topic 19 раса, сага, самый, какой-то, африка, андрей, большой, кино, говорить, германия, кинематограф, станислав, дробышевский, апостол, гдр, эмоциональный, жить, рассказывать, снорри, становиться, интересный, внутри, некоторый, например, вычислительный, называть, свой, западный, рост, южный, находить, история, фрг, происходить, тысяча, часть, сторона, древний, дело, точка, текст, аденауэр, признак, волос, стена, зрение, огромный, метеорит, группа, cinema, территория, знать, процесс, исландия\n",
      "Topic 20 черный, дыра, свойство, магнитный, объект, измерение, поле, рентгеновский, свет, являться, структура, сделать, самый, прибор, большой, образ, телескоп, вещество, например, центр, использовать, оптический, отрицательный, ядро, размер, земля, высокий, материал, проблема, масса, атом, металл, наука, обладать, душа, разрешение, любой, излучение, применение, порядок, сверхмассивный, обычный, устройство, тело, точка, становиться, создавать, известный, представлять, позволять, миллион, называть, говорить, получаться\n",
      "Topic 21 право, вещь, микроорганизм, владение, микроб, имущество, собственность, микробный, метан, наука, проблема, собственник, система, культура, свой, являться, рассказывать, процесс, случай, какой-то, лицо, новый, самый, основание, происходить, период, общество, существовать, дмитрий, доктор, обогащение, вопрос, получать, сообщество, организм, высокий, болото, источник, иск, вода, договор, поэтому, требование, говорить, возникать, гражданский, большой, способ, становиться, разный, данный, чистый, бактерия, суд\n",
      "Topic 22 тело, террор, свой, власть, случай, работа, врач, государь, век, костюм, образ, штамм, говорить, являться, атеросклероз, друг, большой, наука, опухоль, становиться, передаваться, называть, множество, отделение, правитель, принцип, помощь, метод, использовать, делать, разный, концепция, депутат, госпиталь, род, происходить, связь, операция, средневековый, Семереди, николай, часть, россия, xix, появляться, далее, сторона, данные, идти, дело, тип, медицинский, известный, давать\n",
      "Topic 23 новый, медиа, пространство, государство, социальный, наука, образ, история, рассказывать, проблема, свой, форма, культура, общество, говорить, являться, современный, существовать, мир, исторический, культурный, называть, большой, социология, начинать, фольклор, регион, государственный, действие, исследователь, становиться, цифровой, экономический, смысл, любой, центр, роль, класс, понятие, видеть, финансовый, некоторый, самый, происходить, система, ситуация, создавать, какой-то, процесс, проект, власть, век, представлять, развитие\n",
      "Topic 24 свой, сталин, советский, страна, становиться, война, власть, новый, система, достаточно, политика, развитие, крестьянин, говорить, называть, германия, период, экономический, коллективизация, какой-то, мазепа, слово, образ, историк, большой, часть, получать, происходить, начинаться, партия, украина, россия, территория, руководство, проблема, террор, право, ситуация, считать, конец, наука, вопрос, участок, существовать, гетман, огромный, решение, экономика, кризис, казацкий, массовый, группа, определенный, самый\n",
      "Topic 25 энергия, система, самый, излучение, тело, импульс, кремний, спектр, свой, реликтовый, полимерный, происходить, высокий, точка, какой-то, например, большой, дело, определенный, связанный, аномалия, лазерный, говорить, возникать, область, стекло, сталин, век, знать, китайский, образ, масштаб, новый, свет, часть, наука, поэтому, полимер, интенсивность, пятно, разный, материал, информация, работа, гармоника, параметр, связывать, газ, являться, диктатура, транспорт, начало, называть, рассказывать\n",
      "Topic 26 клетка, сон, мозг, происходить, система, рнк, например, состояние, бактерия, свой, ген, болезнь, вирус, наука, организм, случай, форма, функция, кислота, процесс, какой-то, иммунный, оказываться, разный, биологический, самый, группа, являться, активация, рассказывать, получать, связь, счет, мембрана, образ, проблема, доктор, возникать, инфекция, сенсор, механизм, активность, большой, начинать, работать, приводить, поведение, паразит, делать, помощь, становиться, область, многий, состоять\n",
      "Topic 27 ребенок, роль, женщина, свой, социальный, самый, какой-то, становиться, ситуация, мать, проблема, образ, разный, сознание, поведение, говорить, чтение, исследование, эмоция, семья, должный, делать, возникать, начинать, играть, понимать, мужчина, взрослый, происходить, родитель, например, рассказывать, существовать, знать, общество, вести, дело, отношение, связанный, материнство, некоторый, сторона, давать, большой, детство, наука, архетип, случай, мир, определенный, психолог, психологический, хороший, показывать\n",
      "Topic 28 клетка, болезнь, заболевание, мозг, пациент, лечение, ген, генетический, стволовой, операция, например, проблема, кровь, орган, хромосома, получать, большой, ткань, метод, происходить, опухоль, мутация, наследственный, возраст, врач, поэтому, стволовый, организм, сердце, являться, становиться, технология, старение, результат, лекарство, развитие, женщина, информация, трансплантация, исследование, какой-то, давать, шимпанзе, помощь, самый, говорить, семья, должный, случай, использовать, знать, позволять, приводить, проходить\n",
      "Topic 29 система, гласный, нейрон, новый, мозг, песня, русский, свой, говор, цикл, область, например, лютер, вид, работа, сигнал, поведение, говорить, показывать, животное, проблема, самый, птица, должный, нейрогенез, оказываться, наука, простой, называться, знать, становиться, находиться, ожирение, являться, разный, состояние, начинать, буква, современный, слово, образ, известный, нужный, галилей, процесс, модель, самка, тип, церковь, литературный, адаптивный, функция, мягкий, рассказывать\n",
      "Topic 30 право, римский, век, лицо, вид, текст, язык, древний, юрист, наука, самый, категория, период, слово, например, речь, говорить, источник, правовой, искусство, рассказывать, форма, начинать, современный, поэтому, группа, динозавр, появляться, кандидат, образ, история, существовать, получаться, диалект, называть, древнерусский, понимать, являться, славянский, предложение, представлять, свой, происходить, известный, находить, знать, становиться, изучать, рим, эра, мир, календарь, закон, лошадь\n",
      "Topic 31 слово, свой, язык, теория, конфликт, самый, друг, разный, коптский, например, прошлое, генеалогия, текст, какой-то, называть, существовать, социальный, группа, говорить, образ, вера, культура, рассказывать, поэтому, общество, сократ, история, словосочетание, сочетание, значение, наука, араб, русский, некоторый, межгрупповой, дело, современный, век, мир, исторический, получать, бывать, индия, книга, знать, экономический, становиться, шумер, принимать, называться, идти, признак, шумерский, большой\n",
      "Topic 32 язык, слово, русский, например, лингвист, согласный, говорить, разный, лингвистика, лингвистический, система, программа, понимать, заимствование, значение, игра, метод, звук, английский, языковой, самый, грамматика, филологический, наука, какой-то, количество, говор, глубина, рассказывать, интернет, носитель, большой, изучение, сложный, мир, существовать, шахматы, тип, примерно, происходить, находиться, различный, область, устраивать, животное, знать, число, миграция, дерево, свой, некоторый, современный, уровень, компьютер\n",
      "Topic 33 город, век, история, язык, культура, древний, свой, армянский, территория, народ, самый, исторический, грузинский, называть, кавказский, современный, новый, традиция, государство, говорить, царь, период, большой, жить, некоторый, наука, надпись, метро, часть, памятник, начинать, являться, знать, семья, ранний, греческий, сторона, находиться, возникать, начало, бог, многий, происходить, баратынский, кавказ, становиться, письменность, христианский, древность, империя, источник, образ, Бильга, мес\n",
      "Topic 34 магнитный, квантовый, система, структура, состояние, жидкость, электрон, эффект, ток, явление, полимер, точка, металл, создавать, образ, сверхпроводимость, возникать, конденсат, атом, наука, рассказывать, температура, фаза, свойство, состоять, метод, происходить, вихорь, сверхпроводящий, существовать, физико-математический, пара, слой, использовать, друг, интересный, например, свет, размер, являться, кольцо, вещество, сопротивление, какой-то, поэтому, большой, решетка, поток, оказываться, начинать, молекула, спина, функция, получать\n"
     ]
    }
   ],
   "source": [
    "H.printLevel(2, {\"phi_top\"}, 55)"
   ]
  },
  {
   "cell_type": "code",
   "execution_count": null,
   "metadata": {
    "collapsed": false
   },
   "outputs": [],
   "source": [
    "print \"Top phi:\"\n",
    "sorted_idxs = np.argsort(phi1, axis=0)\n",
    "for i in range(sorted_idxs.shape[1]):\n",
    "    print \"Topic\", str(i), \", \".join([H.dictionary[j].lower() for j in sorted_idxs[:-30:-1, i]])"
   ]
  },
  {
   "cell_type": "code",
   "execution_count": 11,
   "metadata": {
    "collapsed": false
   },
   "outputs": [
    {
     "name": "stdout",
     "output_type": "stream",
     "text": [
      "iteration = 0\n",
      "iteration = 1\n",
      "iteration = 2\n",
      "iteration = 3\n",
      "iteration = 4\n",
      "iteration = 5\n",
      "iteration = 6\n",
      "iteration = 7\n",
      "iteration = 8\n",
      "iteration = 9\n",
      "Wall time: 32.5 s\n"
     ]
    }
   ],
   "source": [
    "H.addReg(0, \"sp_sm_Phi_prior\", np.array([-5000]*5+[10000, 0])*10, 10)\n",
    "H.addReg(0, \"sp_sm_Phi\", np.array([0 for i in range(6)]+[-10]))\n",
    "H.addReg(0, \"sp_sm_Theta\", np.array([-5]*5+[10, 10])*0.1, 10)\n",
    "H.addReg(0, \"dec\", 1e6)\n",
    "%time H.constructLevel(0, 10)"
   ]
  },
  {
   "cell_type": "code",
   "execution_count": 14,
   "metadata": {
    "collapsed": false
   },
   "outputs": [
    {
     "data": {
      "text/plain": [
       "array([[ 0.    ,  0.1704,  0.2359,  0.5668,  0.0269],\n",
       "       [ 0.    ,  0.006 ,  0.    ,  0.9659,  0.0282],\n",
       "       [ 0.    ,  0.    ,  0.    ,  0.9931,  0.0069],\n",
       "       [ 0.    ,  0.3306,  0.0545,  0.5838,  0.0311],\n",
       "       [ 0.4913,  0.0015,  0.0039,  0.4969,  0.0064],\n",
       "       [ 0.3845,  0.    ,  0.    ,  0.5561,  0.0594],\n",
       "       [ 0.    ,  0.    ,  0.3305,  0.4704,  0.1991],\n",
       "       [ 0.    ,  0.    ,  0.    ,  0.9821,  0.0179],\n",
       "       [ 0.    ,  0.3   ,  0.    ,  0.6717,  0.0282],\n",
       "       [ 0.    ,  0.5096,  0.    ,  0.4014,  0.0889]])"
      ]
     },
     "execution_count": 14,
     "metadata": {},
     "output_type": "execute_result"
    }
   ],
   "source": [
    "np.set_printoptions(precision=4, suppress=True)\n",
    "H.levels[0].theta.T[:10]"
   ]
  },
  {
   "cell_type": "code",
   "execution_count": 110,
   "metadata": {
    "collapsed": false
   },
   "outputs": [
    {
     "name": "stdout",
     "output_type": "stream",
     "text": [
      "Top phi:\n",
      "Topic 0 и, в, он, который, свой, не, что, герой, человек, на, его, произведение, жизнь, это, то, с, этот, о, русский\n"
     ]
    }
   ],
   "source": [
    "H.printLevel(0, {\"phi_top\"}, 20)"
   ]
  },
  {
   "cell_type": "code",
   "execution_count": 24,
   "metadata": {
    "collapsed": false
   },
   "outputs": [
    {
     "name": "stdout",
     "output_type": "stream",
     "text": [
      "S= 20\n",
      "costruct S= 20\n",
      "Added 1 -th level\n"
     ]
    }
   ],
   "source": [
    "del H.levels[1]\n",
    "H.addLevel(20, lambda_=1)"
   ]
  },
  {
   "cell_type": "code",
   "execution_count": 118,
   "metadata": {
    "collapsed": false
   },
   "outputs": [],
   "source": [
    "import pickle\n",
    "with open(\"D:/PTM/experiments/conc_March/models/conc_postnauka_3lev_notreg_manyit\", \"w\") as f:\n",
    "    pickle.dump(H, f)"
   ]
  },
  {
   "cell_type": "code",
   "execution_count": 108,
   "metadata": {
    "collapsed": false
   },
   "outputs": [],
   "source": [
    "with open(\"D:/PTM/experiments/conc_March/models/conc_postnauka_2lev_notreg\") as f:\n",
    "    H = pickle.load(f)"
   ]
  },
  {
   "cell_type": "code",
   "execution_count": 104,
   "metadata": {
    "collapsed": false
   },
   "outputs": [],
   "source": [
    "class Visualizator:\n",
    "    def __init__(self, H, titles_file, links_file):\n",
    "        self.pages = {}\n",
    "        self.dictionary = H.dictionary\n",
    "        self.read_files(titles_file, links_file)\n",
    "        \n",
    "        \n",
    "    def read_files(self, titles_file, links_file):\n",
    "        self.titles = {}\n",
    "        self.authors = {}\n",
    "        self.links = {}\n",
    "        with open(titles_file, \"r\") as fin:\n",
    "            while True:\n",
    "                doc = fin.readline()\n",
    "                if not len(doc):\n",
    "                    break\n",
    "                doc = int(doc[:-1])\n",
    "                authors = fin.readline()[:-1]\n",
    "                title = fin.readline()[:-1]\n",
    "                self.titles[doc] = title\n",
    "                self.authors[doc] = authors\n",
    "        with open(links_file, \"r\") as fin:\n",
    "            for line in fin:\n",
    "                doc, link = line[:-1].split(\"|\")\n",
    "                self.links[int(doc)] = link\n",
    "                \n",
    "        \n",
    "    def fill(self, top_words_cnt=10, top_docs_cnt=100, psi_threshold=0.5):\n",
    "        \"\"\"\n",
    "        collects topics info and creates graph of topics\n",
    "        \"\"\"\n",
    "        theta = H.graph.theta\n",
    "        for l in range(len(H.graph.phis)-1, -1, -1):\n",
    "            antitops_words = np.argsort(H.graph.phis[l], axis=0)\n",
    "            antitops_docs = np.argsort(theta, axis=1)   # *H.graph.eta[l][np.newaxis, :]\n",
    "            for t in range(H.graph.phis[l].shape[1]):\n",
    "                self.pages[(l, t)] = TopicPage(l, \"Level \"+str(l)+\" Topic \"+str(t),\\\n",
    "                                               \"l\"+str(l)+\"t\"+str(t)+\".html\",\\\n",
    "                                              [self.dictionary[w] for w in antitops_words[-1:-top_words_cnt-1:-1, t]],\\\n",
    "                                              [(self.titles[d], self.authors[d], self.links[d]) for d in \\\n",
    "                                              antitops_docs[t, -1:-top_docs_cnt-1:-1]], [], [])\n",
    "            if l > 0:\n",
    "                theta = H.graph.psis[l-1].dot(theta)\n",
    "        \n",
    "        for l in range(len(H.graph.psis)-1, -1, -1):\n",
    "            for t in range(H.graph.psis[l].shape[0]):\n",
    "                for s in range(H.graph.psis[l].shape[1]):\n",
    "                    if H.graph.psis[l][t, s] > psi_threshold:\n",
    "                        self.pages[(l, t)].children.append(self.pages[(l+1, s)])\n",
    "                        self.pages[(l+1, s)].parents.append(self.pages[(l, t)])\n",
    "          \n",
    "                \n",
    "                \n",
    "    def print_pages(self, path):\n",
    "        \"\"\"\n",
    "        prints pages to path\n",
    "        \"\"\"\n",
    "        for key in self.pages.keys():\n",
    "            self.pages[key].print_page(path)\n",
    "        \n",
    "        \n",
    "class TopicPage:\n",
    "    def __init__(self, level=0, title=\"\", link=\"\", top_words=[], top_docs=[], children=[], parents=[]):\n",
    "        \"\"\"\n",
    "        Class for storing Visualizator nodes\n",
    "        Args:\n",
    "        level is int\n",
    "        title is a string\n",
    "        link is a string\n",
    "        top_words is a list of words\n",
    "        top_docs is a list of tuples (doc_title, doc_author, doc_link)\n",
    "        children is a list of TopicPage instances\n",
    "        parents is a list of TopicPage instances\n",
    "        \"\"\"\n",
    "        self.level = level\n",
    "        self.title = title\n",
    "        self.link = link\n",
    "        self.top_words = top_words\n",
    "        self.top_docs = top_docs\n",
    "        self.children = children\n",
    "        self.parents = parents\n",
    "        \n",
    "        \n",
    "    def print_page(self, path):\n",
    "        with open(path+self.link, \"w\") as fout:\n",
    "            fout.write(\"<!DOCTYPE HTML PUBLIC '-//W3C//DTD HTML 4.01 Transitional//EN'>\"\\\n",
    "                '<html lang=\"en\">\\n<head>\\n<meta content=\"text/html; charset=utf-8\" http-equiv=\"Content-Type\" />\\n'\\\n",
    "                '<link media=\"all\" href=\"style.css\" type=\"text/css\" rel=\"stylesheet\" />\\n'\\\n",
    "                \"<title>\"+self.title+\"</title>\\n\"'<script src=\"script.js\" type=\"text/javascript\"></script>\\n'\\\n",
    "                '</head>\\n<body>\\n')\n",
    "            if self.level > 0:\n",
    "                fout.write('<div class=\"parents\">\\n<h3> Надтемы: </h3>\\n<ul>\\n')\n",
    "                for parent in self.parents:\n",
    "                    fout.write('<li><a href=\"'+str(parent.link)+'\"> '+str(parent.title)+' </a></li>\\n')\n",
    "                fout.write(\"</ul>\\n</div>\\n\")\n",
    "            else:\n",
    "                fout.write('<div class=\"parents\"> <br> </div>\\n')\n",
    "            fout.write('<div class=\"main_topic\">\\n')\n",
    "            fout.write(\"<h1>\"+self.title+\"</h1>\\n\")\n",
    "            fout.write(\"<p>\"+\", \".join(self.top_words)+\"</p>\\n\")\n",
    "            fout.write(\"<ul>\")\n",
    "            for title, author, link in self.top_docs:\n",
    "                fout.write('<li><a href=\"'+link+'\">'+title+\" (\"+author+\") </a></li>\\n\")\n",
    "            fout.write(\"</ul>\\n</div>\\n<br>\\n\")\n",
    "            if self.children:\n",
    "                width = 30 / float(len(self.children))\n",
    "            fout.write('<div class=\"inline\">\\n')\n",
    "            for child in self.children:\n",
    "                fout.write('<div class=\"child_topic\" style=\"width:'+str(width)+'cm;\">\\n')\n",
    "                fout.write('<h2><a href=\"'+child.link+'\">'+child.title+'</a></h2>\\n')\n",
    "                fout.write(\"<p>\"+\", \".join(child.top_words)+\"</p>\\n\")\n",
    "                fout.write(\"<ul>\")\n",
    "                for title, author, link in child.top_docs:\n",
    "                    fout.write('<li><a href=\"'+link+'\">'+title+\" (\"+author+\") </a></li>\\n\")\n",
    "                fout.write(\"</ul>\\n</div>\\n\")\n",
    "            fout.write(\"</div>\\n</body>\\n</html>\")"
   ]
  },
  {
   "cell_type": "code",
   "execution_count": 117,
   "metadata": {
    "collapsed": false
   },
   "outputs": [],
   "source": [
    "vis = Visualizator(H, \"D:/PTM/data/postnauka/titles.txt\", \"D:/PTM/data/postnauka/urls.txt\")\n",
    "vis.fill()\n",
    "vis.print_pages(\"D:/PTM/visualization/site_mar21_2/\")"
   ]
  },
  {
   "cell_type": "code",
   "execution_count": 83,
   "metadata": {
    "collapsed": false
   },
   "outputs": [
    {
     "data": {
      "text/plain": [
       "37"
      ]
     },
     "execution_count": 83,
     "metadata": {},
     "output_type": "execute_result"
    }
   ],
   "source": [
    "len(vis.pages[(2, 3)].parents)"
   ]
  },
  {
   "cell_type": "code",
   "execution_count": null,
   "metadata": {
    "collapsed": true
   },
   "outputs": [],
   "source": []
  }
 ],
 "metadata": {
  "kernelspec": {
   "display_name": "Python 2",
   "language": "python",
   "name": "python2"
  },
  "language_info": {
   "codemirror_mode": {
    "name": "ipython",
    "version": 2
   },
   "file_extension": ".py",
   "mimetype": "text/x-python",
   "name": "python",
   "nbconvert_exporter": "python",
   "pygments_lexer": "ipython2",
   "version": "2.7.10"
  }
 },
 "nbformat": 4,
 "nbformat_minor": 0
}
